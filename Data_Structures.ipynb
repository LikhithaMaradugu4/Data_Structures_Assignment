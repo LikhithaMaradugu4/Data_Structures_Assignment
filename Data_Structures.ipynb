{
  "cells": [
    {
      "cell_type": "code",
      "execution_count": null,
      "metadata": {
        "colab": {
          "base_uri": "https://localhost:8080/"
        },
        "id": "1Y2rmN35s9QE",
        "outputId": "42d0b915-13f9-4950-ac26-784722e5bfd3"
      },
      "outputs": [
        {
          "name": "stdout",
          "output_type": "stream",
          "text": [
            "ahtihkiL\n"
          ]
        }
      ],
      "source": [
        "##1.Code to reverse a string\n",
        "string = \"ahtihkiL\"\n",
        "reversed_string = \"\"\n",
        "for i in range(len(string)-1, -1,-1):\n",
        "    reversed_string += string[i]\n",
        "print(reversed_string)\n"
      ]
    },
    {
      "cell_type": "code",
      "execution_count": null,
      "metadata": {
        "colab": {
          "base_uri": "https://localhost:8080/"
        },
        "id": "Rzw2HnditO3F",
        "outputId": "1260fdb3-de6d-4db1-a3d8-121a5957413a"
      },
      "outputs": [
        {
          "name": "stdout",
          "output_type": "stream",
          "text": [
            "4\n"
          ]
        }
      ],
      "source": [
        "##2.Count the NO.of Vowels\n",
        "string = \"Ramamohan\"\n",
        "vowels = \"aeiouAEIOU\"\n",
        "count = 0\n",
        "for char in string:\n",
        "    if char in vowels:\n",
        "        count += 1\n",
        "print(count)\n"
      ]
    },
    {
      "cell_type": "code",
      "execution_count": null,
      "metadata": {
        "colab": {
          "base_uri": "https://localhost:8080/"
        },
        "id": "FpcAlGfqvL7b",
        "outputId": "e1aaf769-92b8-4d43-8c68-08d62813508e"
      },
      "outputs": [
        {
          "name": "stdout",
          "output_type": "stream",
          "text": [
            "False\n"
          ]
        }
      ],
      "source": [
        "#TO check whether the fiven string is palindrome or not\n",
        "string = \"Saraswathi\"\n",
        "is_palindrome = True\n",
        "for i in range(len(string) // 2):\n",
        "    if string[i] != string[len(string)- i-1]:\n",
        "        is_palindrome = False\n",
        "        break\n",
        "print(is_palindrome)\n"
      ]
    },
    {
      "cell_type": "code",
      "execution_count": null,
      "metadata": {
        "colab": {
          "base_uri": "https://localhost:8080/"
        },
        "id": "m_dUqfN5vn1j",
        "outputId": "ad1166d0-b7ce-4155-b18d-76127438fbb7"
      },
      "outputs": [
        {
          "name": "stdout",
          "output_type": "stream",
          "text": [
            "False\n"
          ]
        }
      ],
      "source": [
        "#TO check anagrams or not\n",
        "string1 = \"Data science\"\n",
        "string2 = \"Data Structures\"\n",
        "\n",
        "if sorted(string1) == sorted(string2):\n",
        "    print(True)\n",
        "else:\n",
        "    print(False)\n"
      ]
    },
    {
      "cell_type": "code",
      "execution_count": null,
      "metadata": {
        "colab": {
          "base_uri": "https://localhost:8080/"
        },
        "id": "U0a14doavzdQ",
        "outputId": "7965eed6-5da0-4458-b217-ef4768f9d7e3"
      },
      "outputs": [
        {
          "name": "stdout",
          "output_type": "stream",
          "text": [
            "[4, 15, 27]\n"
          ]
        }
      ],
      "source": [
        "#5.To find the all the occurences of the given string\n",
        "string = \"Dasara and Navarathri celebrations\"\n",
        "substring = \"ra\"\n",
        "positions = []\n",
        "start = 0\n",
        "\n",
        "while start < len(string):\n",
        "    pos = string.find(substring, start)\n",
        "    if pos == -1:\n",
        "        break\n",
        "    positions.append(pos)\n",
        "    start = pos + 1\n",
        "\n",
        "print(positions)\n",
        "\n"
      ]
    },
    {
      "cell_type": "code",
      "execution_count": null,
      "metadata": {
        "colab": {
          "base_uri": "https://localhost:8080/"
        },
        "id": "YM_Ud15QwSYC",
        "outputId": "2bb961a4-a2cf-4bb7-e49c-9210ad8011ec"
      },
      "outputs": [
        {
          "name": "stdout",
          "output_type": "stream",
          "text": [
            "D1u1r1g1a1m1a1t1h1a1\n"
          ]
        }
      ],
      "source": [
        "#6.COde to perform basic string compressions\n",
        "string = \"Durgamatha\"\n",
        "compressed_string = \"\"\n",
        "count = 1\n",
        "\n",
        "for i in range(1, len(string)):\n",
        "    if string[i] == string[i-1]:\n",
        "        count += 1\n",
        "    else:\n",
        "        compressed_string += string[i-1] + str(count)\n",
        "        count = 1\n",
        "compressed_string += string[-1] + str(count)\n",
        "\n",
        "print(compressed_string)\n"
      ]
    },
    {
      "cell_type": "code",
      "execution_count": null,
      "metadata": {
        "colab": {
          "base_uri": "https://localhost:8080/"
        },
        "id": "XmlynZSpwfFy",
        "outputId": "68592d25-e3cd-448d-e800-7241a418a851"
      },
      "outputs": [
        {
          "name": "stdout",
          "output_type": "stream",
          "text": [
            "False\n"
          ]
        }
      ],
      "source": [
        "#7.To determine code have all unique characters\n",
        "string = \"Kaalika\"\n",
        "unique = True\n",
        "char_set = set()\n",
        "\n",
        "for char in string:\n",
        "    if char in char_set:\n",
        "        unique = False\n",
        "        break\n",
        "    char_set.add(char)\n",
        "\n",
        "print(unique)\n",
        "\n"
      ]
    },
    {
      "cell_type": "code",
      "execution_count": null,
      "metadata": {
        "colab": {
          "base_uri": "https://localhost:8080/"
        },
        "id": "gwA-44Epw5bi",
        "outputId": "613ce94d-e283-4746-aa6f-48457f2cdca9"
      },
      "outputs": [
        {
          "name": "stdout",
          "output_type": "stream",
          "text": [
            "DATA SCIENCE\n",
            "data science\n"
          ]
        }
      ],
      "source": [
        "#8.To convert case\n",
        "string = \"Data science\"\n",
        "uppercase_string = \"\"\n",
        "lowercase_string = \"\"\n",
        "\n",
        "# Convert to uppercase\n",
        "for char in string:\n",
        "    if 'a' <= char <= 'z':\n",
        "        uppercase_string += chr(ord(char) - 32)\n",
        "    else:\n",
        "        uppercase_string += char\n",
        "print(uppercase_string)\n",
        "\n",
        "# Convert to lowercase\n",
        "for char in string:\n",
        "    if 'A' <= char <= 'Z':\n",
        "        lowercase_string += chr(ord(char) + 32)\n",
        "    else:\n",
        "        lowercase_string += char\n",
        "print(lowercase_string)\n"
      ]
    },
    {
      "cell_type": "code",
      "execution_count": null,
      "metadata": {
        "colab": {
          "base_uri": "https://localhost:8080/"
        },
        "id": "uiAP-hqVxCzK",
        "outputId": "53be93b1-d9bb-4d56-9dee-69f1ecb04654"
      },
      "outputs": [
        {
          "name": "stdout",
          "output_type": "stream",
          "text": [
            "2\n"
          ]
        }
      ],
      "source": [
        "##Code to count the no.of words in a string\n",
        "string = \"celebrations began \"\n",
        "string=string.strip()\n",
        "word_count = 0 # At least one word\n",
        "\n",
        "for word in string:\n",
        "    if word == \" \":\n",
        "        word_count += 1\n",
        "\n",
        "print(word_count+1)\n",
        "\n"
      ]
    },
    {
      "cell_type": "code",
      "execution_count": null,
      "metadata": {
        "colab": {
          "base_uri": "https://localhost:8080/"
        },
        "id": "R15z_mGGxL8w",
        "outputId": "941a2967-ab28-48cb-9e29-285563bb4f8d"
      },
      "outputs": [
        {
          "name": "stdout",
          "output_type": "stream",
          "text": [
            "Data science is interesting\n"
          ]
        }
      ],
      "source": [
        "#10.#Code to concatenate strings without using '+' operator\n",
        "string1 = \"Data science\"\n",
        "string2 = \" is interesting\"\n",
        "concatenated_string = \"\"\n",
        "\n",
        "# Concatenating string1\n",
        "for char in string1:\n",
        "    concatenated_string += char\n",
        "\n",
        "# Concatenating string2\n",
        "for char in string2:\n",
        "    concatenated_string += char\n",
        "\n",
        "print(concatenated_string)\n"
      ]
    },
    {
      "cell_type": "code",
      "execution_count": null,
      "metadata": {
        "colab": {
          "base_uri": "https://localhost:8080/"
        },
        "id": "dGjSkcfHyXYt",
        "outputId": "59a1f717-f873-424f-b55a-6fc525811ae9"
      },
      "outputs": [
        {
          "name": "stdout",
          "output_type": "stream",
          "text": [
            "['banana', 'cherry', 'mango']\n"
          ]
        }
      ],
      "source": [
        "# 11.removes all occurrences of a specified element from the list.\n",
        "fruits = ['apple', 'banana', 'apple', 'cherry', 'mango']\n",
        "item_to_remove = 'apple'\n",
        "result = []\n",
        "for fruit in fruits:\n",
        "    if fruit != item_to_remove:\n",
        "        result.append(fruit)\n",
        "print(result)  # ['banana', 'cherry', 'mango']\n"
      ]
    },
    {
      "cell_type": "code",
      "execution_count": null,
      "metadata": {
        "colab": {
          "base_uri": "https://localhost:8080/"
        },
        "id": "tXmCNLB5zjrT",
        "outputId": "123a67c4-65f5-44a4-e2cf-a60be03e53e3"
      },
      "outputs": [
        {
          "name": "stdout",
          "output_type": "stream",
          "text": [
            "14\n"
          ]
        }
      ],
      "source": [
        "## 12.This code finds the second largest number in a list of integers.\n",
        "numbers = [12, 7, 9, 21, 14, 21]\n",
        "first_largest = second_largest = float('-inf')\n",
        "for num in numbers:\n",
        "    if num > first_largest:\n",
        "        second_largest = first_largest\n",
        "        first_largest = num\n",
        "    elif num > second_largest and num != first_largest:\n",
        "        second_largest = num\n",
        "\n",
        "print(second_largest)  # 14\n"
      ]
    },
    {
      "cell_type": "code",
      "execution_count": null,
      "metadata": {
        "colab": {
          "base_uri": "https://localhost:8080/"
        },
        "id": "HKbqC3wfzpaE",
        "outputId": "5ac1afb2-25ed-4777-f571-d062a946573e"
      },
      "outputs": [
        {
          "name": "stdout",
          "output_type": "stream",
          "text": [
            "{'cat': 3, 'dog': 2, 'elephant': 1}\n"
          ]
        }
      ],
      "source": [
        "##13 Counts how many times each element appears in the list and stores the result in a dictionary.\n",
        "animals = ['cat', 'dog', 'cat', 'elephant', 'dog', 'cat']\n",
        "count_dict = {}\n",
        "\n",
        "for animal in animals:\n",
        "    if animal in count_dict:\n",
        "        count_dict[animal] += 1\n",
        "    else:\n",
        "        count_dict[animal] = 1\n",
        "\n",
        "print(count_dict)  # {'cat': 3, 'dog': 2, 'elephant': 1}\n"
      ]
    },
    {
      "cell_type": "code",
      "execution_count": null,
      "metadata": {
        "colab": {
          "base_uri": "https://localhost:8080/"
        },
        "id": "4tMfgdvPz82i",
        "outputId": "13c37f3b-cef9-4686-9842-a9c1b04f916b"
      },
      "outputs": [
        {
          "name": "stdout",
          "output_type": "stream",
          "text": [
            "['mango', 'cherry', 'banana', 'apple']\n"
          ]
        }
      ],
      "source": [
        "##14.# To reverse the list in-place without using the built-in reverse function.\n",
        "fruits = ['apple', 'banana', 'cherry', 'mango']\n",
        "n = len(fruits)\n",
        "for i in range(n // 2):\n",
        "    fruits[i], fruits[n - i - 1] = fruits[n - i - 1], fruits[i]\n",
        "\n",
        "print(fruits)  # ['mango', 'cherry', 'banana', 'apple']\n"
      ]
    },
    {
      "cell_type": "code",
      "execution_count": null,
      "metadata": {
        "colab": {
          "base_uri": "https://localhost:8080/"
        },
        "id": "OEJ0CTPez_yF",
        "outputId": "af23ab4a-6072-4f07-acf5-31047e8a5006"
      },
      "outputs": [
        {
          "name": "stdout",
          "output_type": "stream",
          "text": [
            "['cat', 'dog', 'elephant']\n"
          ]
        }
      ],
      "source": [
        "##15.# To remove duplicates from the list while keeping the original order of elements.\n",
        "animals = ['cat', 'dog', 'cat', 'elephant', 'dog']\n",
        "seen = set()\n",
        "unique_list = []\n",
        "\n",
        "for animal in animals:\n",
        "    if animal not in seen:\n",
        "        unique_list.append(animal)\n",
        "        seen.add(animal)\n",
        "\n",
        "print(unique_list)  # ['cat', 'dog', 'elephant']\n"
      ]
    },
    {
      "cell_type": "code",
      "execution_count": null,
      "metadata": {
        "colab": {
          "base_uri": "https://localhost:8080/"
        },
        "id": "_mhPyu520PQ1",
        "outputId": "c00acb48-6944-4c98-e38c-f35e139d8a77"
      },
      "outputs": [
        {
          "name": "stdout",
          "output_type": "stream",
          "text": [
            "List is sorted in ascending order\n"
          ]
        }
      ],
      "source": [
        "#16.# To checks if the list is sorted in either ascending or descending order.\n",
        "numbers = [3, 5, 7, 9]\n",
        "ascending = True\n",
        "descending = True\n",
        "\n",
        "for i in range(1, len(numbers)):\n",
        "    if numbers[i] < numbers[i - 1]:\n",
        "        ascending = False\n",
        "    if numbers[i] > numbers[i - 1]:\n",
        "        descending = False\n",
        "\n",
        "if ascending:\n",
        "    print(\"List is sorted in ascending order\")\n",
        "elif descending:\n",
        "    print(\"List is sorted in descending order\")\n",
        "else:\n",
        "    print(\"List is not sorted\")  # List is sorted in ascending order\n"
      ]
    },
    {
      "cell_type": "code",
      "execution_count": null,
      "metadata": {
        "colab": {
          "base_uri": "https://localhost:8080/"
        },
        "id": "2bk_8wsC0U_A",
        "outputId": "bd91c377-f6ef-4dcb-cb33-c9e37ab47c40"
      },
      "outputs": [
        {
          "name": "stdout",
          "output_type": "stream",
          "text": [
            "[1, 2, 3, 5, 7, 8]\n"
          ]
        }
      ],
      "source": [
        "#17.# To  merges two sorted lists into one sorted list.\n",
        "list1 = [2, 5, 7]\n",
        "list2 = [1, 3, 8]\n",
        "merged_list = []\n",
        "i = j = 0\n",
        "\n",
        "while i < len(list1) and j < len(list2):\n",
        "    if list1[i] < list2[j]:\n",
        "        merged_list.append(list1[i])\n",
        "        i += 1\n",
        "    else:\n",
        "        merged_list.append(list2[j])\n",
        "        j += 1\n",
        "\n",
        "# Append remaining elements\n",
        "merged_list.extend(list1[i:])\n",
        "merged_list.extend(list2[j:])\n",
        "\n",
        "print(merged_list)  # [1, 2, 3, 5, 7, 8]\n"
      ]
    },
    {
      "cell_type": "code",
      "execution_count": null,
      "metadata": {
        "colab": {
          "base_uri": "https://localhost:8080/"
        },
        "id": "uDEYenyi0dJv",
        "outputId": "808c7561-37de-46f4-cf25-9ef635a47899"
      },
      "outputs": [
        {
          "name": "stdout",
          "output_type": "stream",
          "text": [
            "['dog', 'rabbit']\n"
          ]
        }
      ],
      "source": [
        "#18.# To find the intersection (common elements) of two lists.\n",
        "list1 = ['cat', 'dog', 'rabbit']\n",
        "list2 = ['dog', 'rabbit', 'elephant']\n",
        "intersection = []\n",
        "\n",
        "for item in list1:\n",
        "    if item in list2:\n",
        "        intersection.append(item)\n",
        "\n",
        "print(intersection)  # ['dog', 'rabbit']\n"
      ]
    },
    {
      "cell_type": "code",
      "execution_count": null,
      "metadata": {
        "colab": {
          "base_uri": "https://localhost:8080/"
        },
        "id": "iw9K_hHy0kIE",
        "outputId": "68c466f5-7ae4-4643-ff2d-18e4d3b9a2e3"
      },
      "outputs": [
        {
          "name": "stdout",
          "output_type": "stream",
          "text": [
            "['apple', 'banana', 'cherry', 'mango']\n"
          ]
        }
      ],
      "source": [
        "# 19. To finds the union of two lists while removing duplicates.\n",
        "list1 = ['apple', 'banana', 'cherry']\n",
        "list2 = ['banana', 'mango', 'apple']\n",
        "union = []\n",
        "\n",
        "for item in list1 + list2:\n",
        "    if item not in union:\n",
        "        union.append(item)\n",
        "\n",
        "print(union)  # ['apple', 'banana', 'cherry', 'mango']\n"
      ]
    },
    {
      "cell_type": "code",
      "execution_count": null,
      "metadata": {
        "colab": {
          "base_uri": "https://localhost:8080/"
        },
        "id": "cD6aPc6Z0suG",
        "outputId": "a6413d78-fb79-4b84-abe2-ae59b0c4407c"
      },
      "outputs": [
        {
          "name": "stdout",
          "output_type": "stream",
          "text": [
            "['apple', 'banana', 'cherry', 'mango']\n"
          ]
        }
      ],
      "source": [
        "#20\n",
        "fruits = ['apple', 'banana', 'cherry', 'mango']\n",
        "n = len(fruits)\n",
        "\n",
        "for i in range(n):\n",
        "    swap_index = (i * 3 + 1) % n\n",
        "    fruits[i], fruits[swap_index] = fruits[swap_index], fruits[i]\n",
        "\n",
        "print(fruits)\n"
      ]
    },
    {
      "cell_type": "code",
      "execution_count": null,
      "metadata": {
        "colab": {
          "base_uri": "https://localhost:8080/"
        },
        "id": "dlP8n2qs1Keo",
        "outputId": "a18bfac6-b9fc-437d-f830-0adb8b9cb987"
      },
      "outputs": [
        {
          "name": "stdout",
          "output_type": "stream",
          "text": [
            "('tomato', 'potato')\n"
          ]
        }
      ],
      "source": [
        "#21.# 21. To find common elements between two tuples.\n",
        "tuple1 = ('carrot', 'tomato', 'potato', 'onion')\n",
        "tuple2 = ('tomato', 'spinach', 'potato', 'cabbage')\n",
        "\n",
        "common_elements = ()\n",
        "for veg in tuple1:\n",
        "    if veg in tuple2:\n",
        "        common_elements += (veg,)\n",
        "\n",
        "print(common_elements)  # ('tomato', 'potato')\n"
      ]
    },
    {
      "cell_type": "code",
      "execution_count": null,
      "metadata": {
        "colab": {
          "base_uri": "https://localhost:8080/"
        },
        "id": "_btQmPza3goL",
        "outputId": "e9569a3e-3885-4185-8648-8a17340149ce"
      },
      "outputs": [
        {
          "name": "stdout",
          "output_type": "stream",
          "text": [
            "Enter first set of numbers separated by commas: 23,46,98\n",
            "Enter second set of numbers separated by commas: 67,89,45\n",
            "set()\n"
          ]
        }
      ],
      "source": [
        "# 22. To find the intersection of two sets of integers entered by the user.\n",
        "set1 = set(map(int, input(\"Enter first set of numbers separated by commas: \").split(',')))\n",
        "set2 = set(map(int, input(\"Enter second set of numbers separated by commas: \").split(',')))\n",
        "\n",
        "intersection = set1 & set2\n",
        "\n",
        "print(intersection)  # Example input: 1,2,3 for both sets -> {1, 2, 3}\n"
      ]
    },
    {
      "cell_type": "code",
      "execution_count": null,
      "metadata": {
        "colab": {
          "base_uri": "https://localhost:8080/"
        },
        "id": "RYmQKKms3kGw",
        "outputId": "09ee51b4-4a16-4a98-c171-f506b6b90db7"
      },
      "outputs": [
        {
          "name": "stdout",
          "output_type": "stream",
          "text": [
            "('carrot', 'onion', 'tomato', 'potato')\n"
          ]
        }
      ],
      "source": [
        "# 23. To concatenate two tuples.\n",
        "tuple1 = ('carrot', 'onion')\n",
        "tuple2 = ('tomato', 'potato')\n",
        "\n",
        "concatenated_tuple = tuple1 + tuple2\n",
        "\n",
        "print(concatenated_tuple)\n"
      ]
    },
    {
      "cell_type": "code",
      "execution_count": null,
      "metadata": {
        "colab": {
          "base_uri": "https://localhost:8080/"
        },
        "id": "qrfRIk2n5Bmk",
        "outputId": "d55554f2-dd11-43ab-e7b3-8f05739d1bb1"
      },
      "outputs": [
        {
          "name": "stdout",
          "output_type": "stream",
          "text": [
            "Enter the first set of strings separated by commas: hello,likki\n",
            "Enter the second set of strings separated by commas: hello pw\n",
            "{'likki', 'hello'}\n"
          ]
        }
      ],
      "source": [
        "# 24. To find elements present in the first set but not in the second set.\n",
        "set1 = set(input(\"Enter the first set of strings separated by commas: \").split(','))\n",
        "set2 = set(input(\"Enter the second set of strings separated by commas: \").split(','))\n",
        "\n",
        "difference = set1 - set2\n",
        "\n",
        "print(difference)\n"
      ]
    },
    {
      "cell_type": "code",
      "execution_count": null,
      "metadata": {
        "colab": {
          "base_uri": "https://localhost:8080/"
        },
        "id": "L0ZzsbbX5qLJ",
        "outputId": "81bdfd62-307c-497e-d206-7511d7e638a6"
      },
      "outputs": [
        {
          "name": "stdout",
          "output_type": "stream",
          "text": [
            "Enter the start index: 2\n",
            "Enter the end index: 4\n",
            "(30, 40)\n"
          ]
        }
      ],
      "source": [
        "# 25. To return a new tuple containing elements from the original tuple within specified range of indices.\n",
        "original_tuple = (10, 20, 30, 40, 50)\n",
        "start_index = int(input(\"Enter the start index: \"))\n",
        "end_index = int(input(\"Enter the end index: \"))\n",
        "\n",
        "new_tuple = original_tuple[start_index:end_index]\n",
        "\n",
        "print(new_tuple)\n"
      ]
    },
    {
      "cell_type": "code",
      "execution_count": null,
      "metadata": {
        "colab": {
          "base_uri": "https://localhost:8080/"
        },
        "id": "zvNbEkrz5_PT",
        "outputId": "cda5b830-f0b8-4718-9ebb-2d4fb7ee79fc"
      },
      "outputs": [
        {
          "name": "stdout",
          "output_type": "stream",
          "text": [
            "Enter the first set of characters separated by commas: h,e,l,l,o,M.r.Shyam\n",
            "Enter the second set of characters separated by commas: h,e,l,lo,Mr.,Booguulu\n",
            "{'h', 'M.r.Shyam', 'Mr.', 'e', 'lo', 'l', 'o', 'Booguulu'}\n"
          ]
        }
      ],
      "source": [
        "# 26. To print the union of two sets of characters.\n",
        "set1 = set(input(\"Enter the first set of characters separated by commas: \").split(','))\n",
        "set2 = set(input(\"Enter the second set of characters separated by commas: \").split(','))\n",
        "\n",
        "union = set1 | set2\n",
        "\n",
        "print(union)\n"
      ]
    },
    {
      "cell_type": "code",
      "execution_count": null,
      "metadata": {
        "colab": {
          "base_uri": "https://localhost:8080/"
        },
        "id": "gOAQgZSh6Jb5",
        "outputId": "fe8789dc-4239-4177-b909-27541148db54"
      },
      "outputs": [
        {
          "name": "stdout",
          "output_type": "stream",
          "text": [
            "Maximum: 50 Minimum: 10\n"
          ]
        }
      ],
      "source": [
        "# 27. To return the maximum and minimum values from a tuple using tuple unpacking.\n",
        "numbers = (10, 20, 30, 40, 50)\n",
        "\n",
        "max_value = max(numbers)\n",
        "min_value = min(numbers)\n",
        "\n",
        "print(\"Maximum:\", max_value, \"Minimum:\", min_value)\n"
      ]
    },
    {
      "cell_type": "code",
      "execution_count": null,
      "metadata": {
        "colab": {
          "base_uri": "https://localhost:8080/"
        },
        "id": "yILTToPm6cL_",
        "outputId": "a3a9bfc5-f3af-4eaa-bf15-b879fde6055a"
      },
      "outputs": [
        {
          "name": "stdout",
          "output_type": "stream",
          "text": [
            "Enter the first set of integers separated by commas: 1,2,3,4,5,6\n",
            "Enter the second set of integers separated by commas: 9,10,3,6,11,2\n",
            "Union: {1, 2, 3, 4, 5, 6, 9, 10, 11}\n",
            "Intersection: {2, 3, 6}\n",
            "Difference: {1, 4, 5}\n"
          ]
        }
      ],
      "source": [
        "# 28. To print the union, intersection, and difference of two sets of integers.\n",
        "set1 = set(map(int, input(\"Enter the first set of integers separated by commas: \").split(',')))\n",
        "set2 = set(map(int, input(\"Enter the second set of integers separated by commas: \").split(',')))\n",
        "\n",
        "union = set1 | set2\n",
        "intersection = set1 & set2\n",
        "difference = set1 - set2\n",
        "\n",
        "print(\"Union:\", union)\n",
        "print(\"Intersection:\", intersection)\n",
        "print(\"Difference:\", difference)\n"
      ]
    },
    {
      "cell_type": "code",
      "execution_count": null,
      "metadata": {
        "colab": {
          "base_uri": "https://localhost:8080/"
        },
        "id": "6f9rxFD-6jI8",
        "outputId": "0ea74e14-4044-43cb-9810-815f97fbd8d7"
      },
      "outputs": [
        {
          "name": "stdout",
          "output_type": "stream",
          "text": [
            "Enter the element to count its occurrences: 209078\n",
            "Count of 209078 : 0\n"
          ]
        }
      ],
      "source": [
        "# 29. To return the count of occurrences of the given element in the tuple.\n",
        "numbers = (10, 20, 30, 20, 40, 20)\n",
        "element = int(input(\"Enter the element to count its occurrences: \"))\n",
        "\n",
        "count = 0\n",
        "for num in numbers:\n",
        "    if num == element:\n",
        "        count += 1\n",
        "\n",
        "print(\"Count of\", element, \":\", count)\n"
      ]
    },
    {
      "cell_type": "code",
      "execution_count": null,
      "metadata": {
        "colab": {
          "base_uri": "https://localhost:8080/"
        },
        "id": "iY34uD2G6vBg",
        "outputId": "8512bfce-16fa-47c3-bc55-7aa4f45fac4b"
      },
      "outputs": [
        {
          "name": "stdout",
          "output_type": "stream",
          "text": [
            "Enter the first set of strings separated by commas: Hello,Prem\n",
            "Enter the second set of strings separated by commas: Hello,Likhitha\n",
            "{'Prem', 'Likhitha'}\n"
          ]
        }
      ],
      "source": [
        "# 30. To print the symmetric difference of two sets.\n",
        "set1 = set(input(\"Enter the first set of strings separated by commas: \").split(','))\n",
        "set2 = set(input(\"Enter the second set of strings separated by commas: \").split(','))\n",
        "\n",
        "symmetric_difference = set1 ^ set2\n",
        "\n",
        "print(symmetric_difference)\n",
        "\n",
        "\n"
      ]
    },
    {
      "cell_type": "code",
      "execution_count": null,
      "metadata": {
        "colab": {
          "base_uri": "https://localhost:8080/"
        },
        "id": "VmTj003oKaFF",
        "outputId": "4be501a4-f893-45a6-95ed-7d608ee6a82d"
      },
      "outputs": [
        {
          "name": "stdout",
          "output_type": "stream",
          "text": [
            "Enter a list of words separated by commas: Hello World,Hello,This is likhitha,I am doing well,Hello How are you doing\n",
            "{'Hello World': 1, 'Hello': 1, 'This is likhitha': 1, 'I am doing well': 1, 'Hello How are you doing': 1}\n"
          ]
        }
      ],
      "source": [
        "# 31. To return a dictionary where the keys are unique words and the values are the frequencies of those words in the input list.\n",
        "words = input(\"Enter a list of words separated by commas: \").split(',')\n",
        "word_count = {}\n",
        "\n",
        "for word in words:\n",
        "    word = word.strip()\n",
        "    if word in word_count:\n",
        "        word_count[word] += 1\n",
        "    else:\n",
        "        word_count[word] = 1\n",
        "\n",
        "print(word_count)\n"
      ]
    },
    {
      "cell_type": "code",
      "execution_count": 64,
      "metadata": {
        "colab": {
          "base_uri": "https://localhost:8080/"
        },
        "id": "jur5oXtKKmpp",
        "outputId": "55035a5a-4591-4367-cb2a-b7b12c7c87ec"
      },
      "outputs": [
        {
          "name": "stdout",
          "output_type": "stream",
          "text": [
            "{'car': 70000, 'bus': 100000, 'bike': 45000, 'train': 200000}\n"
          ]
        }
      ],
      "source": [
        "# 32. To merge two dictionaries and add values of common keys.\n",
        "dict1 = {'car': 50000, 'bus': 100000, 'bike': 30000}\n",
        "dict2 = {'bike': 15000, 'train': 200000, 'car': 20000}\n",
        "\n",
        "merged_dict = dict1.copy()\n",
        "\n",
        "for key, value in dict2.items():\n",
        "    if key in merged_dict:\n",
        "        merged_dict[key] += value\n",
        "    else:\n",
        "        merged_dict[key] = value\n",
        "\n",
        "print(merged_dict)\n"
      ]
    },
    {
      "cell_type": "code",
      "execution_count": 65,
      "metadata": {
        "colab": {
          "base_uri": "https://localhost:8080/"
        },
        "id": "iPvS1cNbMOSR",
        "outputId": "fc2a0bee-efb4-4f28-f7dd-f4b2c0b7f2e7"
      },
      "outputs": [
        {
          "name": "stdout",
          "output_type": "stream",
          "text": [
            "5\n"
          ]
        }
      ],
      "source": [
        "# 33. To access a value in a nested dictionary using a list of keys.\n",
        "nested_dict = {\n",
        "    'city': {'New York': 10, 'Los Angeles': 15},\n",
        "    'tool': {'TensorFlow': 5, 'PyTorch': 8}\n",
        "}\n",
        "keys = ['tool', 'TensorFlow']\n",
        "\n",
        "current = nested_dict\n",
        "for key in keys:\n",
        "    if key in current:\n",
        "        current = current[key]\n",
        "    else:\n",
        "        current = None\n",
        "        break\n",
        "\n",
        "print(current)\n"
      ]
    },
    {
      "cell_type": "code",
      "execution_count": 67,
      "metadata": {
        "colab": {
          "base_uri": "https://localhost:8080/"
        },
        "id": "-lNHZhH5N66p",
        "outputId": "f682ae88-8132-4b5f-f37c-2b51b7088940"
      },
      "outputs": [
        {
          "name": "stdout",
          "output_type": "stream",
          "text": [
            "Enter 'asc' for ascending or 'desc' for descending: asc\n",
            "{'laptop': 900, 'car': 20000, 'tractor': 30000, 'bus': 50000}\n"
          ]
        }
      ],
      "source": [
        "# 34. To sort a dictionary by its values in ascending or descending order.\n",
        "my_dict = {'laptop': 900, 'tractor': 30000, 'car': 20000, 'bus': 50000}\n",
        "order = input(\"Enter 'asc' for ascending or 'desc' for descending: \")\n",
        "\n",
        "sorted_dict = dict(sorted(my_dict.items(), key=lambda item: item[1], reverse=(order == 'desc')))\n",
        "\n",
        "print(sorted_dict)\n"
      ]
    },
    {
      "cell_type": "code",
      "execution_count": 68,
      "metadata": {
        "colab": {
          "base_uri": "https://localhost:8080/"
        },
        "id": "meHKG9L2ODJf",
        "outputId": "31a7afed-55a5-4d17-baf1-abf1f2e596f9"
      },
      "outputs": [
        {
          "name": "stdout",
          "output_type": "stream",
          "text": [
            "{10: ['banana', 'broccoli'], 20: ['carrot', 'spinach']}\n"
          ]
        }
      ],
      "source": [
        "# 35. To invert a dictionary by swapping keys and values, handling cases with multiple keys having the same value.\n",
        "my_dict = {'banana': 10, 'carrot': 20, 'broccoli': 10, 'spinach': 20}\n",
        "\n",
        "inverted_dict = {}\n",
        "for key, value in my_dict.items():\n",
        "    if value in inverted_dict:\n",
        "        inverted_dict[value].append(key)\n",
        "    else:\n",
        "        inverted_dict[value] = [key]\n",
        "\n",
        "print(inverted_dict)\n"
      ]
    },
    {
      "cell_type": "code",
      "execution_count": null,
      "metadata": {
        "id": "OlH7EA_kOOAI"
      },
      "outputs": [],
      "source": []
    }
  ],
  "metadata": {
    "colab": {
      "provenance": []
    },
    "kernelspec": {
      "display_name": "Python 3",
      "name": "python3"
    },
    "language_info": {
      "name": "python"
    }
  },
  "nbformat": 4,
  "nbformat_minor": 0
}
